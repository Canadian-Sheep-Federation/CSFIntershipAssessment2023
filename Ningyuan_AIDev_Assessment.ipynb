{
  "cells": [
    {
      "cell_type": "markdown",
      "source": [
        "# Written Response: Jupyter Notebook to Processing Pipeline"
      ],
      "metadata": {
        "id": "0QqM0lLetKeD"
      }
    },
    {
      "cell_type": "markdown",
      "source": [
        "Gait analysis is the systematic study of animal locomotion through the measurement of body movements. To translate a Jupyter notebook containing a machine learning model for gait analysis into a software application, I will follow the following steps:\n",
        "\n",
        "1. I will **extract the relevant code** from the notebook, including core components and functions such as model loading, data pre-processing, and accuracy predictions. I will convert this code into separate functions, classes, and modules in Python files to ensure reproducibility. Additionally, I will create a user-friendly interface, such as a **command-line interface**, to facilitate interaction with the software. This will enable users to easily upload images/videos, specify output paths, and configure parameters using command-line inputs. The argparse library can be utilized for this purpose.\n",
        "\n",
        "2. I will **address data processing**. Depending on the input type, whether it's an image or video, I will implement code to handle both data formats. OpenCV offers numerous functions for processing images and videos. Furthermore, I will preprocess the input data to ensure they adhere to the desired format required by the machine learning model. Common practices include resizing and normalizing images or standardizing video lengths. Additionally, I will partition the data into training, validation, and test sets for subsequent steps.\n",
        "\n",
        "3. I will **load pre-trained models and apply them to the input data**. Pre-trained models available online, trained on extensive datasets like ImageNet, can be leveraged to expedite training and potentially improve prediction accuracy. I will train the model on our training data, optimizing objective functions using training code. Validation sets will be utilized to prevent overfitting, while test sets will be used solely for model evaluation.\n",
        "\n",
        "4. I will perform the **post-processing and visualization** in the fourth step. This may involve storing the model with the best performance for future use. \n",
        "Additionally, data visualizations, such as plotting sample input images alongside their prediction results, can be created. Attention maps for transformer-based models can be visualized, and heat maps can be used to identify important features. Documentation and usage instructions will also be written for the software product.\n",
        "\n",
        "5. I will **deploy the machine learning pipeline** as a software product, employing DevOps techniques like AWS and Microsoft Azure. Once the software is complete, I will package it into a distributable format, such as a Python package or executable file, using tools like Docker. This will facilitate easy deployment and usage of the software.\n",
        "\n",
        "\n"
      ],
      "metadata": {
        "id": "GfDXOWGGtNYe"
      }
    },
    {
      "cell_type": "markdown",
      "metadata": {
        "id": "z0ffSZLoVp1F"
      },
      "source": [
        "# Demo: Vision Transformer for MNIST Image Classification "
      ]
    },
    {
      "cell_type": "markdown",
      "metadata": {
        "id": "qV_f-VYWoFpy"
      },
      "source": [
        "### Mount on Google Drive\n"
      ]
    },
    {
      "cell_type": "code",
      "execution_count": null,
      "metadata": {
        "colab": {
          "base_uri": "https://localhost:8080/"
        },
        "id": "HQmqVUUZqbEE",
        "outputId": "463a8884-db5e-4b19-a040-3c7487494e23"
      },
      "outputs": [
        {
          "output_type": "stream",
          "name": "stdout",
          "text": [
            "Mounted at /content/gdrive\n"
          ]
        }
      ],
      "source": [
        "from google.colab import drive\n",
        "drive.mount('/content/gdrive', force_remount=True)"
      ]
    },
    {
      "cell_type": "markdown",
      "metadata": {
        "id": "PpLqwKc9UjKl"
      },
      "source": [
        "### Imports"
      ]
    },
    {
      "cell_type": "code",
      "execution_count": null,
      "metadata": {
        "colab": {
          "base_uri": "https://localhost:8080/"
        },
        "id": "_7AAgEL2nHGg",
        "outputId": "f0b40c9d-5bb3-4f8a-b9cb-79c4e23212e0"
      },
      "outputs": [
        {
          "output_type": "stream",
          "name": "stdout",
          "text": [
            "Running on torch.__version__ =  1.13.1+cu116\n"
          ]
        }
      ],
      "source": [
        "import time\n",
        "import numpy as np\n",
        "import pandas as pd\n",
        "import random\n",
        "import matplotlib.pyplot as plt\n",
        "\n",
        "# import standard PyTorch modules\n",
        "import torch\n",
        "import torch.nn as nn\n",
        "import torch.optim as optim\n",
        "\n",
        "# import torchvision module to handle image manipulation\n",
        "import torchvision\n",
        "import torchvision.transforms as transforms\n",
        "print(\"Running on torch.__version__ = \", torch.__version__)\n",
        "\n",
        "torch.backends.cudnn.deterministic = True\n",
        "\n",
        "# utils\n",
        "import os\n",
        "from tqdm import tqdm\n",
        "tqdm.pandas()\n",
        "from collections import Counter"
      ]
    },
    {
      "cell_type": "markdown",
      "metadata": {
        "id": "TUVmUx8PY4YA"
      },
      "source": [
        "### Helper Functions"
      ]
    },
    {
      "cell_type": "code",
      "execution_count": null,
      "metadata": {
        "id": "de-TYlriY6ZE"
      },
      "outputs": [],
      "source": [
        "# a function to move tensors from the CPU to the GPU and vice versa\n",
        "def dict_to_device(orig, device):\n",
        "    new = {}\n",
        "    for k,v in orig.items():\n",
        "        new[k] = v.to(device)\n",
        "    return new\n",
        "\n",
        "# a function to plot a batch of images together\n",
        "def plot_images(img, ax):\n",
        "    img = torchvision.utils.make_grid(img)\n",
        "    npimg = img.numpy()\n",
        "    ax.imshow(np.transpose(npimg, (1, 2, 0)))  "
      ]
    },
    {
      "cell_type": "markdown",
      "metadata": {
        "id": "ia3AtMLRU0Zz"
      },
      "source": [
        "### Dataset and Dataloader"
      ]
    },
    {
      "cell_type": "code",
      "execution_count": null,
      "metadata": {
        "id": "UGwIBAY3SYRy"
      },
      "outputs": [],
      "source": [
        "# Use standard MNIST dataset\n",
        "class MyDataset(torchvision.datasets.MNIST):    \n",
        "    def __init__(self, *args, debug=False, **kwargs):\n",
        "        super().__init__(*args, **kwargs)\n",
        "        self.debug = debug\n",
        "    \n",
        "    def __getitem__(self, idx):\n",
        "        data = super().__getitem__(idx)\n",
        "        img = data[0]\n",
        "        digit = data[1]\n",
        "        return {'image': img, 'digit': digit}\n",
        "    \n",
        "    def __len__(self):\n",
        "        return super().__len__()\n",
        "\n",
        "dataset = MyDataset(\n",
        "    root = './',\n",
        "    train = True,\n",
        "    download = True,\n",
        "    transform = transforms.Compose([\n",
        "        transforms.ToTensor(),        \n",
        "    ]),\n",
        "    debug=True,\n",
        ")\n",
        "\n",
        "test_set = MyDataset(\n",
        "    root = './',\n",
        "    train = False,\n",
        "    download = True,\n",
        "    transform = transforms.Compose([\n",
        "        transforms.ToTensor(),        \n",
        "    ]),\n",
        "    debug=True,\n",
        ")\n",
        "\n",
        "loader = torch.utils.data.DataLoader(dataset, batch_size=128, num_workers=0)"
      ]
    },
    {
      "cell_type": "code",
      "execution_count": null,
      "metadata": {
        "colab": {
          "base_uri": "https://localhost:8080/"
        },
        "id": "noQlWs-Fbecq",
        "outputId": "457b5edd-e014-4a7b-bde9-fed699bb6fdd"
      },
      "outputs": [
        {
          "output_type": "stream",
          "name": "stdout",
          "text": [
            "train_set: 48000\n",
            "val_set: 12000\n",
            "test_set: 10000\n"
          ]
        }
      ],
      "source": [
        "# Define the dataloaders and split into train, validation, and test\n",
        "size = len(dataset)\n",
        "train_set, val_set = torch.utils.data.random_split(dataset, [int(size * 0.8), int(size * 0.2)])\n",
        "train_loader = torch.utils.data.DataLoader(train_set, batch_size=128, shuffle=True, num_workers=0)\n",
        "val_loader = torch.utils.data.DataLoader(val_set, batch_size=128, shuffle=True, num_workers=0)\n",
        "test_loader = torch.utils.data.DataLoader(test_set, batch_size=128, shuffle=True, num_workers=0)\n",
        "\n",
        "print('train_set:', len(train_set))\n",
        "print('val_set:', len(val_set))\n",
        "print('test_set:', len(test_set))"
      ]
    },
    {
      "cell_type": "markdown",
      "metadata": {
        "id": "m-qcpHIZZsOY"
      },
      "source": [
        "### ViT Network\n",
        "\n",
        "A **Vision Transformer** that takes an image as input and classifies it into ten classes, digits 0 to 9."
      ]
    },
    {
      "cell_type": "code",
      "execution_count": null,
      "metadata": {
        "id": "Imkc9YtLhxDx"
      },
      "outputs": [],
      "source": [
        "import torch\n",
        "import torch.nn as nn\n",
        "import numpy as np\n",
        "import torch.nn.functional as F\n",
        "from torch.autograd import Variable\n",
        "import math\n",
        "\n",
        "# Source: https://github.com/UdbhavPrasad072300/Transformer-Implementations/blob/main/transformer_package/models/transformer.py\n",
        "\n",
        "class MultiHeadAttention(nn.Module):\n",
        "\n",
        "    def __init__(self, embed_size: int, num_heads: int, dropout: float = 0.2, batch_dim: int = 0):\n",
        "        super(MultiHeadAttention, self).__init__()\n",
        "\n",
        "        self.embed_size = embed_size\n",
        "        self.num_heads = num_heads\n",
        "        self.dropout = dropout\n",
        "        self.batch_dim = batch_dim\n",
        "\n",
        "        self.dropout_layer = nn.Dropout(dropout)\n",
        "\n",
        "        self.head_size = self.embed_size // self.num_heads\n",
        "\n",
        "        self.Q = nn.Linear(self.embed_size, self.embed_size)\n",
        "        self.K = nn.Linear(self.embed_size, self.embed_size)\n",
        "        self.V = nn.Linear(self.embed_size, self.embed_size)\n",
        "\n",
        "        self.linear = nn.Linear(self.embed_size, self.embed_size)\n",
        "\n",
        "    def forward(self, q, k, v, mask=None):\n",
        "        if self.batch_dim == 0:\n",
        "            out = self.batch_0(q, k, v, mask)\n",
        "        elif self.batch_dim == 1:\n",
        "            out = self.batch_1(q, k, v, mask)\n",
        "\n",
        "        return out\n",
        "\n",
        "    def batch_0(self, q, k, v, mask=None):\n",
        "        q_batch_size, q_seq_len, q_embed_size = q.size()\n",
        "        k_batch_size, k_seq_len, k_embed_size = k.size()\n",
        "        v_batch_size, v_seq_len, v_embed_size = v.size()\n",
        "\n",
        "        q = self.Q(q).reshape(q_batch_size, q_seq_len, self.num_heads, self.head_size)\n",
        "        k = self.K(k).reshape(k_batch_size, k_seq_len, self.num_heads, self.head_size)\n",
        "        v = self.V(v).reshape(v_batch_size, v_seq_len, self.num_heads, self.head_size)\n",
        "\n",
        "        attention = self.attention(q, k, v, mask=mask)\n",
        "        concatenated = attention.reshape(v_batch_size, -1, self.embed_size)\n",
        "        out = self.linear(concatenated)\n",
        "\n",
        "        return out\n",
        "\n",
        "    def batch_1(self, q, k, v, mask=None):\n",
        "        q_seq_len, q_batch_size, q_embed_size = q.size()\n",
        "        k_seq_len, k_batch_size, k_embed_size = k.size()\n",
        "        v_seq_len, v_batch_size, v_embed_size = v.size()\n",
        "\n",
        "        q = self.Q(q).reshape(q_seq_len, q_batch_size, self.num_heads, self.head_size).transpose(0, 1)\n",
        "        k = self.K(k).reshape(k_seq_len, k_batch_size, self.num_heads, self.head_size).transpose(0, 1)\n",
        "        v = self.V(v).reshape(v_seq_len, v_batch_size, self.num_heads, self.head_size).transpose(0, 1)\n",
        "\n",
        "        attention = self.attention(q, k, v, mask=mask)\n",
        "        concatenated = attention.reshape(-1, v_batch_size, self.embed_size)\n",
        "\n",
        "        out = self.linear(concatenated)\n",
        "\n",
        "        return out\n",
        "\n",
        "    def attention(self, q, k, v, mask=None):\n",
        "        scores = torch.einsum(\"bqhe,bkhe->bhqk\", [q, k])\n",
        "\n",
        "        if mask is not None:\n",
        "            scores = scores.masked_fill(mask == 0, -1e9)\n",
        "\n",
        "        scores /= math.sqrt(self.embed_size)\n",
        "        scores = F.softmax(scores, dim=-1)\n",
        "        scores = self.dropout_layer(scores)\n",
        "        attention = torch.einsum(\"bhql,blhd->bqhd\", [scores, v])\n",
        "        return attention\n",
        "\n",
        "class VisionEncoder(nn.Module):\n",
        "\n",
        "    def __init__(self, embed_size: int, num_heads: int, hidden_size: int, dropout: float = 0.1):\n",
        "        super(VisionEncoder, self).__init__()\n",
        "\n",
        "        self.embed_size = embed_size\n",
        "        self.num_heads = num_heads\n",
        "        self.hidden_size = hidden_size\n",
        "        self.dropout = dropout\n",
        "\n",
        "        self.norm1 = nn.LayerNorm(self.embed_size)\n",
        "        self.norm2 = nn.LayerNorm(self.embed_size)\n",
        "\n",
        "        self.attention = MultiHeadAttention(self.embed_size, self.num_heads, dropout=dropout)\n",
        "\n",
        "        self.mlp = nn.Sequential(\n",
        "            nn.Linear(self.embed_size, 4 * self.embed_size),\n",
        "            nn.GELU(),\n",
        "            nn.Dropout(self.dropout),\n",
        "            nn.Linear(4 * self.embed_size, self.embed_size),\n",
        "            nn.Dropout(self.dropout)\n",
        "        )\n",
        "\n",
        "    def forward(self, x):\n",
        "        x = self.norm1(x)\n",
        "        x = x + self.attention(x, x, x)\n",
        "        x = x + self.mlp(self.norm2(x))\n",
        "        return x\n",
        "\n",
        "class ViT(nn.Module):\n",
        "\n",
        "    def __init__(self, image_size: int, channel_size: int, patch_size: int, embed_size: int, num_heads: int,\n",
        "                 classes: int, num_layers: int, hidden_size: int, dropout: float = 0.1):\n",
        "        super(ViT, self).__init__()\n",
        "\n",
        "        self.p = patch_size\n",
        "        self.image_size = image_size\n",
        "        self.embed_size = embed_size\n",
        "        self.num_patches = (image_size // patch_size) ** 2\n",
        "        self.patch_size = channel_size * (patch_size ** 2)\n",
        "        self.num_heads = num_heads\n",
        "        self.classes = classes\n",
        "        self.num_layers = num_layers\n",
        "        self.hidden_size = hidden_size\n",
        "        self.dropout = dropout\n",
        "        self.dropout_layer = nn.Dropout(dropout)\n",
        "\n",
        "        self.embeddings = nn.Linear(self.patch_size, self.embed_size)\n",
        "        self.class_token = nn.Parameter(torch.randn(1, 1, self.embed_size))\n",
        "        self.positional_encoding = nn.Parameter(torch.randn(1, self.num_patches + 1, self.embed_size))\n",
        "\n",
        "        self.encoders = nn.ModuleList([])\n",
        "        for layer in range(self.num_layers):\n",
        "            self.encoders.append(VisionEncoder(self.embed_size, self.num_heads, self.hidden_size, self.dropout))\n",
        "\n",
        "        self.norm = nn.LayerNorm(self.embed_size)\n",
        "\n",
        "        self.classifier = nn.Sequential(\n",
        "            nn.Linear(self.embed_size, self.classes)\n",
        "        )\n",
        "\n",
        "    def forward(self, input_dict, mask=None):\n",
        "\n",
        "        x = input_dict['image']\n",
        "        b, c, h, w = x.size()\n",
        "\n",
        "        x = x.reshape(b, int((h / self.p) * (w / self.p)), c * self.p * self.p)\n",
        "\n",
        "        # start with a patch_embedding layer to divide image into patches and convert each patch into vector embeddings\n",
        "        x = self.embeddings(x)\n",
        "\n",
        "        b, n, e = x.size()\n",
        "\n",
        "        # append a class token to image tokens\n",
        "        class_token = self.class_token.expand(b, 1, e)\n",
        "        x = torch.cat((x, class_token), dim=1)\n",
        "\n",
        "        # add positional encodings, using dropout might be helpful\n",
        "        x = self.dropout_layer(x + self.positional_encoding)\n",
        "\n",
        "        # use a transformer encoder to calculate the attention weights\n",
        "        for encoder in self.encoders:\n",
        "            x = encoder(x)\n",
        "\n",
        "        x = x[:, -1, :]\n",
        "\n",
        "        # apply an mlp head on the class token to predict the digit \n",
        "        x = F.log_softmax(self.classifier(self.norm(x)), dim=-1)\n",
        "\n",
        "        return {'digit': x}\n",
        "\n",
        "network = ViT(image_size=28, channel_size=1, patch_size=7, embed_size=64, num_heads=4, num_layers=2, hidden_size=32, classes=10).to('cuda')"
      ]
    },
    {
      "cell_type": "markdown",
      "metadata": {
        "id": "X82PEwzSZvXg"
      },
      "source": [
        "### Training"
      ]
    },
    {
      "cell_type": "code",
      "execution_count": null,
      "metadata": {
        "colab": {
          "base_uri": "https://localhost:8080/",
          "height": 406
        },
        "id": "7K_GSHDCVUXB",
        "outputId": "649051ac-1589-4a3f-e198-3de743fe3ecb"
      },
      "outputs": [
        {
          "data": {
            "image/png": "[encoded data removed]",
            "text/plain": [
              "<Figure size 1600x400 with 3 Axes>"
            ]
          },
          "metadata": {},
          "output_type": "display_data"
        },
        {
          "name": "stdout",
          "output_type": "stream",
          "text": [
            "Validation epoch 9, iteration 90 of 94 (95 %), loss=0.2120\n"
          ]
        }
      ],
      "source": [
        "# training loop\n",
        "%matplotlib inline\n",
        "from IPython import display\n",
        "\n",
        "# prepare plotting\n",
        "fig = plt.figure(figsize=(20, 5), dpi= 80, facecolor='w', edgecolor='k')\n",
        "axes = fig.subplots(1,3)\n",
        "\n",
        "optimizer = torch.optim.Adam(network.parameters(), lr=0.0001)\n",
        "\n",
        "num_epochs = 10\n",
        "train_losses = []\n",
        "val_losses = []\n",
        "\n",
        "for e in range(num_epochs):\n",
        "    train_iter = iter(train_loader)\n",
        "    network.train()\n",
        "    for i in range(len(train_loader)):        \n",
        "        batch_cpu = next(train_iter)\n",
        "        batch_gpu = dict_to_device(batch_cpu, 'cuda')        \n",
        "        pred = network(batch_gpu)\n",
        "        pred_cpu = dict_to_device(pred, 'cpu')\n",
        "        \n",
        "        # calculate the loss and backward the gradient\n",
        "        loss = nn.CrossEntropyLoss()(pred['digit'], batch_gpu['digit'])        \n",
        "        optimizer.zero_grad()\n",
        "        loss.backward()\n",
        "        optimizer.step()\n",
        "        train_losses.append(loss.item())           \n",
        "\n",
        "        if i%100==0:            \n",
        "            axes[0].cla()\n",
        "            axes[1].cla()            \n",
        "\n",
        "            # plot some sample image inputs\n",
        "            plot_images(batch_cpu['image'][0:1], ax=axes[0])    \n",
        "            axes[0].legend()\n",
        "            axes[0].set_title('sample input')\n",
        "\n",
        "            # plot the training error on a log plot\n",
        "            axes[1].plot(train_losses, label='loss')\n",
        "            axes[1].set_yscale('log')\n",
        "            axes[1].set_title('Training loss')\n",
        "            axes[1].set_xlabel('number of gradient iterations')\n",
        "            axes[1].legend()\n",
        "\n",
        "            # clear output window and diplay updated figure\n",
        "            display.clear_output(wait=True)\n",
        "            display.display(plt.gcf())\n",
        "            print(\"Training epoch {}, iteration {} of {} ({} %), loss={:0.4f}\".format(e, i, len(train_loader), 100*i//len(train_loader), train_losses[-1]))            \n",
        "\n",
        "    val_iter = iter(val_loader)\n",
        "    network.eval()    \n",
        "    for i in range(len(val_loader)):\n",
        "        batch_cpu = next(val_iter)\n",
        "        batch_gpu = dict_to_device(batch_cpu, 'cuda')\n",
        "        pred = network(batch_gpu)\n",
        "        pred_cpu = dict_to_device(pred, 'cpu')\n",
        "        \n",
        "        # calculate the loss\n",
        "        with torch.no_grad():\n",
        "            loss = nn.CrossEntropyLoss()(pred['digit'], batch_gpu['digit'])        \n",
        "            val_losses.append(loss.item()) \n",
        "\n",
        "        if i%10==0: \n",
        "            axes[2].cla()            \n",
        "\n",
        "            # plot the validation error on a log plot\n",
        "            axes[2].plot(val_losses, label='loss')\n",
        "            axes[2].set_yscale('log')\n",
        "            axes[2].set_title('Validation loss')\n",
        "            axes[2].set_xlabel('number of gradient iterations')\n",
        "            axes[2].legend()\n",
        "\n",
        "            # clear output window and diplay updated figure\n",
        "            display.clear_output(wait=True)\n",
        "            display.display(plt.gcf())\n",
        "            print(\"Validation epoch {}, iteration {} of {} ({} %), loss={:0.4f}\".format(e, i, len(val_loader), 100*i//len(val_loader), val_losses[-1]))            \n",
        "plt.close('all')"
      ]
    },
    {
      "cell_type": "markdown",
      "metadata": {
        "id": "bLWTsDFJWgbP"
      },
      "source": [
        "### Evaluation"
      ]
    },
    {
      "cell_type": "markdown",
      "metadata": {
        "id": "q3k5n-eG0-An"
      },
      "source": [
        "#### Prediction Accuracy "
      ]
    },
    {
      "cell_type": "code",
      "execution_count": null,
      "metadata": {
        "id": "XfxpL80cWgPN"
      },
      "outputs": [],
      "source": [
        "def get_accuracy(network, data_loader):\n",
        "    network.eval()\n",
        "    iterator = iter(data_loader)    \n",
        "    correct = 0\n",
        "    total = 0\n",
        "    for i in range(len(iterator)):        \n",
        "        batch_cpu = next(iterator)\n",
        "        batch_gpu = dict_to_device(batch_cpu, 'cuda')        \n",
        "        pred = network(batch_gpu)['digit'].argmax(dim=1, keepdim=True)                                        \n",
        "        correct += pred.eq(batch_gpu['digit'].view_as(pred)).sum().item()        \n",
        "        total += pred.shape[0]\n",
        "           \n",
        "    return correct / total"
      ]
    },
    {
      "cell_type": "code",
      "execution_count": null,
      "metadata": {
        "colab": {
          "base_uri": "https://localhost:8080/"
        },
        "id": "QpLmlfSMVTQT",
        "outputId": "3f67b396-2f65-4451-b722-1a3fb508e628"
      },
      "outputs": [
        {
          "name": "stdout",
          "output_type": "stream",
          "text": [
            "train acc: 0.940125\n",
            "validation acc: 0.935\n",
            "test acc: 0.9429\n"
          ]
        }
      ],
      "source": [
        "# report accuracy on train, validation, and test sets\n",
        "print('train acc:', get_accuracy(network, train_loader))\n",
        "print('validation acc:', get_accuracy(network, val_loader))\n",
        "print('test acc:', get_accuracy(network, test_loader))"
      ]
    },
    {
      "cell_type": "markdown",
      "metadata": {
        "id": "WEF35-UU1V05"
      },
      "source": [
        "#### Qualitative Results"
      ]
    },
    {
      "cell_type": "code",
      "execution_count": null,
      "metadata": {
        "colab": {
          "base_uri": "https://localhost:8080/",
          "height": 319
        },
        "id": "PorIeQrxYBxo",
        "outputId": "cdc94838-cc5d-42dc-beb5-51eb5fe70219"
      },
      "outputs": [
        {
          "name": "stderr",
          "output_type": "stream",
          "text": [
            "WARNING:matplotlib.legend:No artists with labels found to put in legend.  Note that artists whose label start with an underscore are ignored when legend() is called with no argument.\n"
          ]
        },
        {
          "name": "stdout",
          "output_type": "stream",
          "text": [
            "predicted digits: [0 7 3 5 1 8]\n"
          ]
        },
        {
          "data": {
            "image/png": "[encoded data removed]",
            "text/plain": [
              "<Figure size 1600x400 with 1 Axes>"
            ]
          },
          "metadata": {},
          "output_type": "display_data"
        }
      ],
      "source": [
        "# plot the input images and output of your network for a few samples in the test set\n",
        "\n",
        "fig = plt.figure(figsize=(20, 5), dpi= 80, facecolor='w', edgecolor='k')\n",
        "axes = fig.subplots(1,1)\n",
        "\n",
        "test_iter = iter(test_loader)\n",
        "network.eval()    \n",
        "for i in range(len(test_loader)):\n",
        "    batch_cpu = next(test_iter)    \n",
        "    axes.cla()        \n",
        "    plot_images(batch_cpu['image'][0:6], ax=axes)\n",
        "    axes.legend()\n",
        "    axes.set_title('sample input')    \n",
        "    \n",
        "    batch_gpu = dict_to_device(batch_cpu, 'cuda')    \n",
        "    pred = network(batch_gpu)\n",
        "\n",
        "    pred_digits = pred['digit'].argmax(dim=1, keepdim=True)[0:6]\n",
        "    pred_digits = pred_digits.cpu().numpy().flatten()\n",
        "    print(\"predicted digits:\", pred_digits)\n",
        "\n",
        "    break"
      ]
    }
  ],
  "metadata": {
    "accelerator": "GPU",
    "colab": {
      "machine_shape": "hm",
      "provenance": []
    },
    "gpuClass": "premium",
    "kernelspec": {
      "display_name": "Python 3",
      "language": "python",
      "name": "python3"
    },
    "language_info": {
      "codemirror_mode": {
        "name": "ipython",
        "version": 3
      },
      "file_extension": ".py",
      "mimetype": "text/x-python",
      "name": "python",
      "nbconvert_exporter": "python",
      "pygments_lexer": "ipython3",
      "version": "3.7.11"
    }
  },
  "nbformat": 4,
  "nbformat_minor": 0
}